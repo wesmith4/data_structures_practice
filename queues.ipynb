{
 "cells": [
  {
   "cell_type": "code",
   "execution_count": 12,
   "metadata": {
    "executionInfo": {
     "elapsed": 212,
     "status": "ok",
     "timestamp": 1630891028558,
     "user": {
      "displayName": "Will Smith",
      "photoUrl": "https://lh3.googleusercontent.com/a-/AOh14GiQHNDxbbHFIxRqp6FjrGb_fAdUiwN6tqeKtDwFCg=s64",
      "userId": "15071631953778743331"
     },
     "user_tz": 360
    },
    "id": "inEitCSHqXTd"
   },
   "outputs": [],
   "source": [
    "from collections import deque"
   ]
  },
  {
   "cell_type": "code",
   "execution_count": 13,
   "metadata": {
    "executionInfo": {
     "elapsed": 208,
     "status": "ok",
     "timestamp": 1630891047675,
     "user": {
      "displayName": "Will Smith",
      "photoUrl": "https://lh3.googleusercontent.com/a-/AOh14GiQHNDxbbHFIxRqp6FjrGb_fAdUiwN6tqeKtDwFCg=s64",
      "userId": "15071631953778743331"
     },
     "user_tz": 360
    },
    "id": "TO8bX7wnri6E"
   },
   "outputs": [],
   "source": [
    "q = deque()"
   ]
  },
  {
   "cell_type": "code",
   "execution_count": 14,
   "metadata": {
    "colab": {
     "base_uri": "https://localhost:8080/"
    },
    "executionInfo": {
     "elapsed": 240,
     "status": "ok",
     "timestamp": 1630891048597,
     "user": {
      "displayName": "Will Smith",
      "photoUrl": "https://lh3.googleusercontent.com/a-/AOh14GiQHNDxbbHFIxRqp6FjrGb_fAdUiwN6tqeKtDwFCg=s64",
      "userId": "15071631953778743331"
     },
     "user_tz": 360
    },
    "id": "BxaO01A7rkds",
    "outputId": "856b39dc-9ecc-4a94-8c8c-d047e57cb970"
   },
   "outputs": [
    {
     "data": {
      "text/plain": [
       "deque([])"
      ]
     },
     "execution_count": 14,
     "metadata": {},
     "output_type": "execute_result"
    }
   ],
   "source": [
    "q"
   ]
  },
  {
   "cell_type": "code",
   "execution_count": 15,
   "metadata": {
    "executionInfo": {
     "elapsed": 209,
     "status": "ok",
     "timestamp": 1630891058440,
     "user": {
      "displayName": "Will Smith",
      "photoUrl": "https://lh3.googleusercontent.com/a-/AOh14GiQHNDxbbHFIxRqp6FjrGb_fAdUiwN6tqeKtDwFCg=s64",
      "userId": "15071631953778743331"
     },
     "user_tz": 360
    },
    "id": "RyMlw6x6rlKa"
   },
   "outputs": [],
   "source": [
    "q.appendleft([15])"
   ]
  },
  {
   "cell_type": "code",
   "execution_count": 16,
   "metadata": {
    "colab": {
     "base_uri": "https://localhost:8080/"
    },
    "executionInfo": {
     "elapsed": 201,
     "status": "ok",
     "timestamp": 1630891067825,
     "user": {
      "displayName": "Will Smith",
      "photoUrl": "https://lh3.googleusercontent.com/a-/AOh14GiQHNDxbbHFIxRqp6FjrGb_fAdUiwN6tqeKtDwFCg=s64",
      "userId": "15071631953778743331"
     },
     "user_tz": 360
    },
    "id": "4dsGCAmOrqIA",
    "outputId": "87576b15-2290-46a1-e78d-e0c2cf284a1b"
   },
   "outputs": [
    {
     "data": {
      "text/plain": [
       "[15]"
      ]
     },
     "execution_count": 16,
     "metadata": {},
     "output_type": "execute_result"
    }
   ],
   "source": [
    "q.pop()"
   ]
  },
  {
   "cell_type": "code",
   "execution_count": 17,
   "metadata": {
    "executionInfo": {
     "elapsed": 202,
     "status": "ok",
     "timestamp": 1630891075066,
     "user": {
      "displayName": "Will Smith",
      "photoUrl": "https://lh3.googleusercontent.com/a-/AOh14GiQHNDxbbHFIxRqp6FjrGb_fAdUiwN6tqeKtDwFCg=s64",
      "userId": "15071631953778743331"
     },
     "user_tz": 360
    },
    "id": "0OViSaxGrq0I"
   },
   "outputs": [],
   "source": [
    "q.appendleft(15)"
   ]
  },
  {
   "cell_type": "code",
   "execution_count": 18,
   "metadata": {
    "colab": {
     "base_uri": "https://localhost:8080/"
    },
    "executionInfo": {
     "elapsed": 256,
     "status": "ok",
     "timestamp": 1630891076838,
     "user": {
      "displayName": "Will Smith",
      "photoUrl": "https://lh3.googleusercontent.com/a-/AOh14GiQHNDxbbHFIxRqp6FjrGb_fAdUiwN6tqeKtDwFCg=s64",
      "userId": "15071631953778743331"
     },
     "user_tz": 360
    },
    "id": "IF2LJePgruQz",
    "outputId": "ad3d5262-e77d-4f76-9047-f1926b144f92"
   },
   "outputs": [
    {
     "data": {
      "text/plain": [
       "deque([15])"
      ]
     },
     "execution_count": 18,
     "metadata": {},
     "output_type": "execute_result"
    }
   ],
   "source": [
    "q"
   ]
  },
  {
   "cell_type": "code",
   "execution_count": 25,
   "metadata": {
    "executionInfo": {
     "elapsed": 227,
     "status": "ok",
     "timestamp": 1630891884612,
     "user": {
      "displayName": "Will Smith",
      "photoUrl": "https://lh3.googleusercontent.com/a-/AOh14GiQHNDxbbHFIxRqp6FjrGb_fAdUiwN6tqeKtDwFCg=s64",
      "userId": "15071631953778743331"
     },
     "user_tz": 360
    },
    "id": "BQcUeiEpruqa"
   },
   "outputs": [],
   "source": [
    "class Queue:\n",
    "  def __init__(self, initial_values:list):\n",
    "    self.buffer = deque(initial_values)\n",
    "\n",
    "  def enqueue(self,val):\n",
    "    self.buffer.appendleft(val)\n",
    "  \n",
    "  def dequeue(self):\n",
    "    return self.buffer.pop()\n",
    "  \n",
    "  def is_empty(self):\n",
    "    return len(self.buffer) == 0\n",
    "  \n",
    "  def size(self):\n",
    "    return len(self.buffer)\n",
    "\n",
    "  def show(self):\n",
    "    print(self.buffer)\n"
   ]
  },
  {
   "cell_type": "code",
   "execution_count": 26,
   "metadata": {
    "colab": {
     "base_uri": "https://localhost:8080/"
    },
    "executionInfo": {
     "elapsed": 312,
     "status": "ok",
     "timestamp": 1630891886144,
     "user": {
      "displayName": "Will Smith",
      "photoUrl": "https://lh3.googleusercontent.com/a-/AOh14GiQHNDxbbHFIxRqp6FjrGb_fAdUiwN6tqeKtDwFCg=s64",
      "userId": "15071631953778743331"
     },
     "user_tz": 360
    },
    "id": "3wz_Fe0DtrF3",
    "outputId": "76451a4a-a025-4a31-e2dc-9aebc65a7ece"
   },
   "outputs": [
    {
     "name": "stdout",
     "output_type": "stream",
     "text": [
      "deque([1, 2, 3, 4])\n"
     ]
    }
   ],
   "source": [
    "my_q = Queue([1,2,3,4])\n",
    "my_q.show()"
   ]
  },
  {
   "cell_type": "code",
   "execution_count": 27,
   "metadata": {
    "colab": {
     "base_uri": "https://localhost:8080/"
    },
    "executionInfo": {
     "elapsed": 221,
     "status": "ok",
     "timestamp": 1630891887118,
     "user": {
      "displayName": "Will Smith",
      "photoUrl": "https://lh3.googleusercontent.com/a-/AOh14GiQHNDxbbHFIxRqp6FjrGb_fAdUiwN6tqeKtDwFCg=s64",
      "userId": "15071631953778743331"
     },
     "user_tz": 360
    },
    "id": "oz7oGki8ueQf",
    "outputId": "8c27f2c7-314a-4d47-c33c-d904d34c2f32"
   },
   "outputs": [
    {
     "data": {
      "text/plain": [
       "4"
      ]
     },
     "execution_count": 27,
     "metadata": {},
     "output_type": "execute_result"
    }
   ],
   "source": [
    "my_q.dequeue()"
   ]
  },
  {
   "cell_type": "code",
   "execution_count": 28,
   "metadata": {
    "colab": {
     "base_uri": "https://localhost:8080/",
     "height": 130
    },
    "executionInfo": {
     "elapsed": 201,
     "status": "error",
     "timestamp": 1630892129684,
     "user": {
      "displayName": "Will Smith",
      "photoUrl": "https://lh3.googleusercontent.com/a-/AOh14GiQHNDxbbHFIxRqp6FjrGb_fAdUiwN6tqeKtDwFCg=s64",
      "userId": "15071631953778743331"
     },
     "user_tz": 360
    },
    "id": "TbFxB5EeuwS1",
    "outputId": "5231d41a-8eef-4467-9044-64bf5669883b"
   },
   "outputs": [
    {
     "name": "stdout",
     "output_type": "stream",
     "text": [
      "deque([1, 2, 3])\n"
     ]
    }
   ],
   "source": [
    "my_q.show()"
   ]
  },
  {
   "cell_type": "code",
   "execution_count": null,
   "metadata": {
    "id": "AMbURNa1vvvo"
   },
   "outputs": [],
   "source": []
  },
  {
   "cell_type": "code",
   "execution_count": null,
   "metadata": {},
   "outputs": [],
   "source": []
  }
 ],
 "metadata": {
  "colab": {
   "authorship_tag": "ABX9TyNk1Uk2+obCN8Kd/HPZF3Yh",
   "name": "queues.ipynb",
   "provenance": []
  },
  "kernelspec": {
   "display_name": "Python 3",
   "language": "python",
   "name": "python3"
  },
  "language_info": {
   "codemirror_mode": {
    "name": "ipython",
    "version": 3
   },
   "file_extension": ".py",
   "mimetype": "text/x-python",
   "name": "python",
   "nbconvert_exporter": "python",
   "pygments_lexer": "ipython3",
   "version": "3.8.5"
  }
 },
 "nbformat": 4,
 "nbformat_minor": 4
}
